{
 "cells": [
  {
   "cell_type": "markdown",
   "metadata": {
    "collapsed": true
   },
   "source": [
    "<h1>Few-shot Learning</h1>\n",
    "\n",
    "<p>Few-shot learning is a machine learning paradigm that enables a model to learn from only a small number of examples. To achieve this, few-shot learning algorithms use prior knowledge learned from other tasks and apply it to new tasks with limited training data. One popular approach to few-shot learning is prototypical networks, which were proposed by Snell et al. in <a href='https://arxiv.org/abs/1703.05175'>this</a> research paper. </p>\n",
    "\n"
   ]
  },
  {
   "cell_type": "markdown",
   "metadata": {},
   "source": [
    "<h2>Outline</h2>\n",
    "<ul>\n",
    "    <li> Motivation: why few-shot learning is important </li>\n",
    "    <li> Meta Learning: few-shot learning is a type of meta-learning </li>\n",
    "    <li> Few-shot Learning: how to set up a few-shot learning in theory </li>\n",
    "    <li> Implementation: implement Prototypical Networks to gain a better understanding of demonstrate how few-shot learning works in practice </li>\n",
    "    </ul>"
   ]
  },
  {
   "attachments": {},
   "cell_type": "markdown",
   "metadata": {},
   "source": [
    "<h2>Motivation</h2>\n",
    "<p>When building a classifier, the general steps are collecting large number of labeled samples, training the model over them, and finally, test the model on a test set to see how well the model is generalized to unseen data. This paradaigm is not a good choice in the following scenarios:</p>\n",
    "<ul>\n",
    "    <li>A small dataset (e.g. a few examples of plant species) </li>\n",
    "    <li>A large dataset with a long tail; that is, despite having a large dataset, for some classes, we only have a few examples</li>\n",
    "    <ul>\n",
    "        <li>Think about a large dataset of plants, for rare species, we only have a few examples. </li>\n",
    "        <li>A database of user-searched keywords, some keywords might have been searched only 3,4 times</li>\n",
    "    </ul>\n",
    "</ul>\n",
    "<p>When we have a small dataset, the model does not see enough variations of data features during training. Therefore, there might exist many combinations that the model has not seen before and consequently, it cannot be generalized well to unseen data.</p>\n",
    "<p>One approach when dealing with the above issues is using pretrained networks. However, finetuning over a small dataset can impact the model accuracy and also lead to severe overfitting.</p>\n",
    "<p>Few-shot learning aims to provide a solution when having not large enough dataset. In few-shot learning, the goal is to learn how to learn a task rather than learning the task itself. From this perspective, few-shot learning is a type of meta-learning.</p>\n"
   ]
  },
  {
   "cell_type": "markdown",
   "metadata": {},
   "source": [
    "<h2>Meta Learning: Learning to Learn!</h2>\n",
    "<p>\n",
    "In traditional machine learning, a model is trained to perform a specific task, such as classifying images into a set of predefined categories. However, meta learning takes a different approach: it aims to teach the model how to learn, rather than just how to perform a specific task.\n",
    "\n",
    "To accomplish this, meta learning involves training the model on multiple episodes of related tasks. In each episode, the model is presented with a new classification task and must adapt its parameters and strategies to perform well on that task. By training on a diverse set of tasks, the model can learn to quickly adapt to new tasks in the future.\n",
    "\n",
    "Compared to traditional classification problems, meta learning typically involves working with sets of tasks rather than sets of data. This approach is often referred to as few-shot learning, as the model is trained to learn from only a few examples of each task.\n",
    "\n",
    "Overall, meta learning is a powerful approach to machine learning that can lead to more flexible and adaptable models. By teaching models how to learn, we can build AI systems that are better equipped to handle new challenges and tasks.\n",
    "</p>"
   ]
  },
  {
   "cell_type": "markdown",
   "metadata": {},
   "source": [
    "<h2> Few-shot learning explained</h2>\n",
    "<p>In a traditional classification problem, the dataset consists of pairs of samples and their corresponding classes. The model is trained to predict a class (or a label) for a given sample. During the test time or intference, the model expects to see the images of the same classes as what it has seen during the training phase and cannot go beyond those classes. As an example, if a model is trained to predict the classes 'car' or 'airplane' for a given sample image, it means that we cannot show the model an image of a 'ship' and expect it to output the correct class for as the model has not seen any 'ship' before. It does not know what a 'ship' is. As opposed, in few-shot learning the goal is that the model is generalized to UNSEEN CLASSES. That is, if our imaginary car/airplane classification is trained in the few-shot learning setting, it will be able to classify an image of a 'ship' if it is only provided with a few samples of labeled ship images. Keeping this in mind, the goal in few-shot learning is to lear how to learn a task. To explain more, during the training time, the model is trained over several small classification tasks. To illustate, given a dataset of labeled images of cats, dogs, horses and sheeps, one classification task could be defined to classify cats vs dogs, the second one could be dogs vs horses, the third one could be sheeps vs horses vs cats,... You got the idea! the model is then trained to perform each of this classification tasks over and over. Finally, the resulting model learns how to \"learn a classification task\" rather than simply mapping an image to a class. </p>\n"
   ]
  }
 ],
 "metadata": {
  "kernelspec": {
   "display_name": "Python 3",
   "language": "python",
   "name": "python3"
  },
  "language_info": {
   "codemirror_mode": {
    "name": "ipython",
    "version": 3
   },
   "file_extension": ".py",
   "mimetype": "text/x-python",
   "name": "python",
   "nbconvert_exporter": "python",
   "pygments_lexer": "ipython3",
   "version": "3.7.0"
  }
 },
 "nbformat": 4,
 "nbformat_minor": 1
}
